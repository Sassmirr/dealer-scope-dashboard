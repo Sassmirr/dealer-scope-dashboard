{
 "cells": [
  {
   "cell_type": "code",
   "execution_count": null,
   "id": "cafbc4bf",
   "metadata": {
    "vscode": {
     "languageId": "plaintext"
    }
   },
   "outputs": [],
   "source": [
    "import pandas as pd\n",
    "import matplotlib.pyplot as plt\n",
    "from src.data_prep import load_data, clean_data\n",
    "\n",
    "df = load_data()\n",
    "df = clean_data(df)\n",
    "df.head()\n",
    "\n",
    "# Quick plot of one KPI\n",
    "kpi = df['account_id'].unique()[0]\n",
    "df[df['account_id']==kpi].plot(x='date', y='monthly_value')\n",
    "plt.show()\n"
   ]
  }
 ],
 "metadata": {
  "language_info": {
   "name": "python"
  }
 },
 "nbformat": 4,
 "nbformat_minor": 5
}
